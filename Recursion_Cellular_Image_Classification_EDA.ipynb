{
  "nbformat": 4,
  "nbformat_minor": 0,
  "metadata": {
    "colab": {
      "name": "Recursion Cellular Image Classification EDA",
      "version": "0.3.2",
      "provenance": [],
      "collapsed_sections": [],
      "include_colab_link": true
    },
    "kernelspec": {
      "name": "python3",
      "display_name": "Python 3"
    },
    "accelerator": "TPU"
  },
  "cells": [
    {
      "cell_type": "markdown",
      "metadata": {
        "id": "view-in-github",
        "colab_type": "text"
      },
      "source": [
        "<a href=\"https://colab.research.google.com/github/sergeiissaev/Recursion-Cellular-Image-Classification/blob/master/Recursion_Cellular_Image_Classification_EDA.ipynb\" target=\"_parent\"><img src=\"https://colab.research.google.com/assets/colab-badge.svg\" alt=\"Open In Colab\"/></a>"
      ]
    },
    {
      "cell_type": "markdown",
      "metadata": {
        "id": "lRAgy0gRPf8i",
        "colab_type": "text"
      },
      "source": [
        "Remember to put runtime to TPU!"
      ]
    },
    {
      "cell_type": "code",
      "metadata": {
        "id": "6e_i9-8ewAOv",
        "colab_type": "code",
        "colab": {}
      },
      "source": [
        "#imports\n",
        "\n",
        "import json\n",
        "import os\n",
        "import sys\n",
        "import tensorflow as tf\n",
        "\n",
        "\n",
        "\n",
        "\n"
      ],
      "execution_count": 0,
      "outputs": []
    },
    {
      "cell_type": "code",
      "metadata": {
        "id": "4EIyz23f7-wK",
        "colab_type": "code",
        "outputId": "7d3467ed-64a3-4d5b-ce7d-4cba29700d1b",
        "colab": {
          "base_uri": "https://localhost:8080/",
          "height": 36
        }
      },
      "source": [
        "#import rxrx1-utils\n",
        "if 'google.colab' in sys.modules:\n",
        "    !git clone https://github.com/recursionpharma/rxrx1-utils\n",
        "    sys.path.append('/content/rxrx1-utils')\n",
        "\n",
        "    from google.colab import auth\n",
        "    auth.authenticate_user()\n",
        "    \n",
        "from rxrx.main import main"
      ],
      "execution_count": 0,
      "outputs": [
        {
          "output_type": "stream",
          "text": [
            "fatal: destination path 'rxrx1-utils' already exists and is not an empty directory.\n"
          ],
          "name": "stdout"
        }
      ]
    },
    {
      "cell_type": "code",
      "metadata": {
        "id": "2UcWw6FsPKBk",
        "colab_type": "code",
        "colab": {}
      },
      "source": [
        ""
      ],
      "execution_count": 0,
      "outputs": []
    },
    {
      "cell_type": "code",
      "metadata": {
        "id": "kEDycBaOPJ62",
        "colab_type": "code",
        "colab": {}
      },
      "source": [
        ""
      ],
      "execution_count": 0,
      "outputs": []
    }
  ]
}